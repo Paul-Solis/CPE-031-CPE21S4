{
  "nbformat": 4,
  "nbformat_minor": 0,
  "metadata": {
    "colab": {
      "provenance": [],
      "authorship_tag": "ABX9TyPaRqGYDGvrcN98NSYuGbLC",
      "include_colab_link": true
    },
    "kernelspec": {
      "name": "python3",
      "display_name": "Python 3"
    },
    "language_info": {
      "name": "python"
    }
  },
  "cells": [
    {
      "cell_type": "markdown",
      "metadata": {
        "id": "view-in-github",
        "colab_type": "text"
      },
      "source": [
        "<a href=\"https://colab.research.google.com/github/Paul-Solis/CPE-031-CPE21S4/blob/main/Challenge_2!.ipynb\" target=\"_parent\"><img src=\"https://colab.research.google.com/assets/colab-badge.svg\" alt=\"Open In Colab\"/></a>"
      ]
    },
    {
      "cell_type": "markdown",
      "source": [
        "**Challenge 2: Coin Flip**\n",
        "\n",
        "Create a function coin flip() that simulates coin flips repeated n times, with 0 representing tails and 1 representing heads. Make the function a generator with the parameter n as the number of coin flips. Use numpy library as np and the functtion of np.random .randit() in order to simulate a coin flip. After defining this function, return the result as a list using list comprehension discussed previously.\n",
        "\n"
      ],
      "metadata": {
        "id": "_s-EbkPvym2D"
      }
    },
    {
      "cell_type": "code",
      "execution_count": 19,
      "metadata": {
        "colab": {
          "base_uri": "https://localhost:8080/"
        },
        "id": "RjSEn3qUyBYk",
        "outputId": "d291cffc-4ddc-4991-c2c8-f3fab416549a"
      },
      "outputs": [
        {
          "output_type": "stream",
          "name": "stdout",
          "text": [
            "Enter the number of coin flips: 3\n",
            "Results of 3 coin flips: [0, 1, 1]\n",
            "Heads: 2\n",
            "Tails: 1\n"
          ]
        }
      ],
      "source": [
        "import numpy as np\n",
        "\n",
        "def coin_flip(n):\n",
        "    for i in range(n):\n",
        "        yield np.random.randint(0, 2)\n",
        "\n",
        "def main():\n",
        "    n = int(input(\"Enter the number of coin flips: \"))\n",
        "    result = [flip for flip in coin_flip(n)]\n",
        "    print(f\"Results of {n} coin flips: {result}\")\n",
        "    print(f\"Heads: {result.count(1)}\")\n",
        "    print(f\"Tails: {result.count(0)}\")\n",
        "\n",
        "main()\n"
      ]
    }
  ]
}